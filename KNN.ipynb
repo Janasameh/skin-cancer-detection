{
  "nbformat": 4,
  "nbformat_minor": 0,
  "metadata": {
    "colab": {
      "provenance": []
    },
    "kernelspec": {
      "name": "python3",
      "display_name": "Python 3"
    },
    "language_info": {
      "name": "python"
    }
  },
  "cells": [
    {
      "cell_type": "code",
      "source": [
        "import numpy as np\n",
        "import cv2\n",
        "from sklearn.model_selection import train_test_split, cross_val_score\n",
        "from sklearn.neighbors import KNeighborsClassifier\n",
        "from sklearn.metrics import accuracy_score, precision_score, recall_score, f1_score, classification_report\n",
        "from sklearn.preprocessing import StandardScaler, LabelEncoder\n",
        "from imblearn.over_sampling import SMOTE\n",
        "from google.colab import drive\n",
        "import os\n",
        "from tensorflow.keras.preprocessing.image import ImageDataGenerator\n",
        "import warnings\n",
        "warnings.filterwarnings('ignore')"
      ],
      "metadata": {
        "colab": {
          "base_uri": "https://localhost:8080/"
        },
        "id": "FLyHXUuGp6to",
        "outputId": "d73dca58-a9b6-44ab-fba2-4db324373243"
      },
      "execution_count": null,
      "outputs": [
        {
          "output_type": "stream",
          "name": "stdout",
          "text": [
            "Drive already mounted at /content/drive; to attempt to forcibly remount, call drive.mount(\"/content/drive\", force_remount=True).\n"
          ]
        }
      ]
    },
    {
      "cell_type": "code",
      "source": [
        "np.random.seed(42)\n",
        "data_dir = '/content/drive/My Drive/data/train'  # Update this path\n",
        "\n",
        "def load_images(data_dir, image_size=(64, 64)):\n",
        "    X, y = [], []\n",
        "    for class_name in os.listdir(data_dir):\n",
        "        class_path = os.path.join(data_dir, class_name)\n",
        "        if os.path.isdir(class_path):\n",
        "            for img_name in os.listdir(class_path):\n",
        "                img_path = os.path.join(class_path, img_name)\n",
        "                img = cv2.imread(img_path, cv2.IMREAD_GRAYSCALE)  # Grayscale for KNN\n",
        "                if img is not None:\n",
        "                    img = cv2.resize(img, image_size)\n",
        "                    X.append(img.flatten())  # Flatten for KNN\n",
        "                    y.append(class_name)\n",
        "    return np.array(X), np.array(y)\n",
        "\n",
        "X, y = load_images(data_dir)"
      ],
      "metadata": {
        "id": "1loHzQoJt995"
      },
      "execution_count": null,
      "outputs": []
    },
    {
      "cell_type": "code",
      "source": [
        "def augment_images(X, y, image_size=(64, 64), augmentation_factor=0.2):\n",
        "    n_samples = int(len(X) * augmentation_factor)\n",
        "    indices = np.random.choice(len(X), n_samples, replace=True)\n",
        "    X_subset = X[indices].reshape(-1, image_size[0], image_size[1], 1)\n",
        "    y_subset = y[indices]\n",
        "\n",
        "    datagen = ImageDataGenerator(\n",
        "        rotation_range=10,\n",
        "        horizontal_flip=True,\n",
        "        zoom_range=0.1,\n",
        "        width_shift_range=0.1,\n",
        "        height_shift_range=0.1\n",
        "    )\n",
        "\n",
        "    X_aug = []\n",
        "    y_aug = []\n",
        "    it = datagen.flow(X_subset, y_subset, batch_size=32, shuffle=False)\n",
        "    for _ in range((n_samples + 31) // 32):  # Ensure all samples are processed\n",
        "        X_batch, y_batch = next(it)\n",
        "        X_aug.append(X_batch.reshape(-1, image_size[0] * image_size[1]))\n",
        "        y_aug.append(y_batch)\n",
        "\n",
        "    X_aug = np.vstack(X_aug)[:n_samples]  # Trim to exact number\n",
        "    y_aug = np.hstack(y_aug)[:n_samples]  # Trim to exact number\n",
        "\n",
        "    X_combined = np.vstack([X, X_aug])\n",
        "    y_combined = np.hstack([y, y_aug])\n",
        "\n",
        "    if len(X_combined) != len(y_combined):\n",
        "        raise ValueError(f\"Inconsistent sample counts: X={len(X_combined)}, y={len(y_combined)}\")\n",
        "\n",
        "    return X_combined, y_combined"
      ],
      "metadata": {
        "id": "VZ6i9wlLuQGn"
      },
      "execution_count": null,
      "outputs": []
    },
    {
      "cell_type": "code",
      "source": [
        "# 4. Split dataset\n",
        "X_train, X_test, y_train, y_test = train_test_split(X_aug, y_aug, test_size=0.3, random_state=42)\n",
        "\n",
        "# Verify sample counts after split\n",
        "if len(X_train) != len(y_train) or len(X_test) != len(y_test):\n",
        "    raise ValueError(f\"Inconsistent sample counts after split: X_train={len(X_train)}, y_train={len(y_train)}, X_test={len(X_test)}, y_test={len(y_test)}\")\n",
        "if len(X_test) < len(np.unique(y_aug)):\n",
        "    raise ValueError(\"Test set too small for reliable evaluation. Reduce test_size or increase dataset.\")\n",
        "\n",
        "# 5. Apply SMOTE to training data\n",
        "smote = SMOTE(random_state=42)\n",
        "X_train_smote, y_train_smote = smote.fit_resample(X_train, y_train)\n",
        "\n",
        "# Verify SMOTE output\n",
        "if len(X_train_smote) != len(y_train_smote):\n",
        "    raise ValueError(f\"Inconsistent sample counts after SMOTE: X_train_smote={len(X_train_smote)}, y_train_smote={len(y_train_smote)}\")\n",
        "if X_train_smote.shape[1] != X_train.shape[1]:\n",
        "    raise ValueError(f\"Feature count mismatch after SMOTE: expected {X_train.shape[1]}, got {X_train_smote.shape[1]}\")\n",
        "\n",
        "# 6. Scale features (critical for KNN)\n",
        "scaler = StandardScaler()\n",
        "X_train_smote = scaler.fit_transform(X_train_smote)\n",
        "X_test = scaler.transform(X_test)\n",
        "\n",
        "# Verify scaler output\n",
        "if X_train_smote.shape[1] != X_test.shape[1]:\n",
        "    raise ValueError(f\"Feature count mismatch after scaling: X_train_smote={X_train_smote.shape[1]}, X_test={X_test.shape[1]}\")\n",
        "\n",
        "# 7. Train and evaluate KNN with hyperparameter tuning\n",
        "knn_configs = [\n",
        "    {'n_neighbors': 3, 'weights': 'uniform', 'metric': 'euclidean'},\n",
        "    {'n_neighbors': 5, 'weights': 'distance', 'metric': 'euclidean'},\n",
        "    {'n_neighbors': 7, 'weights': 'uniform', 'metric': 'manhattan'}\n",
        "]\n",
        "\n",
        "results = []\n",
        "best_knn = None\n",
        "best_f1 = 0\n",
        "\n",
        "print(\"KNN Image Classification Performance:\")\n",
        "for config in knn_configs:\n",
        "    knn = KNeighborsClassifier(**config)\n",
        "    knn.fit(X_train_smote, y_train_smote)\n",
        "    y_pred = knn.predict(X_test)\n",
        "\n",
        "    # Calculate metrics with zero_division handling\n",
        "    acc = accuracy_score(y_test, y_pred)\n",
        "    prec = precision_score(y_test, y_pred, average='weighted', zero_division=0)\n",
        "    rec = recall_score(y_test, y_pred, average='weighted', zero_division=0)\n",
        "    f1 = f1_score(y_test, y_pred, average='weighted', zero_division=0)\n",
        "\n",
        "    results.append({\n",
        "        'config': config,\n",
        "        'accuracy': acc,\n",
        "        'precision': prec,\n",
        "        'recall': rec,\n",
        "        'f1_score': f1\n",
        "    })\n",
        "\n",
        "    if f1 > best_f1:\n",
        "        best_f1 = f1\n",
        "        best_knn = knn\n",
        "\n",
        "    print(f\"\\nConfig: {config}\")\n",
        "    print(f\"Accuracy: {acc:.4f}\")\n",
        "    print(f\"Precision: {prec:.4f}\")\n",
        "    print(f\"Recall: {rec:.4f}\")\n",
        "    print(f\"F1 Score: {f1:.4f}\")\n",
        "    print(\"Classification Report:\")\n",
        "    print(classification_report(y_test, y_pred, target_names=le.classes_, zero_division=0))\n",
        "\n",
        "# 8. Cross-validation for best model\n",
        "cv_scores = cross_val_score(best_knn, X_train_smote, y_train_smote, cv=5, scoring='f1_weighted')\n",
        "print(f\"\\nBest KNN Model (Config: {best_knn.get_params()}):\")\n",
        "print(f\"Cross-Validation F1 Scores: {cv_scores}\")\n",
        "print(f\"Average CV F1 Score: {cv_scores.mean():.4f} (±{cv_scores.std():.4f})\")\n",
        "\n",
        "# 9. Summary of Results\n",
        "print(\"\\nSummary of KNN Models:\")\n",
        "for result in results:\n",
        "    print(f\"Config: {result['config']} - F1: {result['f1_score']:.4f}\")\n",
        "print(f\"\\nBest KNN Model: Config {best_knn.get_params()} - F1: {best_f1:.4f}\")"
      ],
      "metadata": {
        "colab": {
          "base_uri": "https://localhost:8080/"
        },
        "id": "WU7-GjJzusxt",
        "outputId": "64fa8e99-3663-47da-873e-4faa480946b3"
      },
      "execution_count": null,
      "outputs": [
        {
          "output_type": "stream",
          "name": "stdout",
          "text": [
            "KNN Image Classification Performance:\n",
            "\n",
            "Config: {'n_neighbors': 3, 'weights': 'uniform', 'metric': 'euclidean'}\n",
            "Accuracy: 0.6600\n",
            "Precision: 0.6646\n",
            "Recall: 0.6600\n",
            "F1 Score: 0.6434\n",
            "Classification Report:\n",
            "              precision    recall  f1-score   support\n",
            "\n",
            "      benign       0.65      0.84      0.73       531\n",
            "   malignant       0.68      0.43      0.53       419\n",
            "\n",
            "    accuracy                           0.66       950\n",
            "   macro avg       0.67      0.64      0.63       950\n",
            "weighted avg       0.66      0.66      0.64       950\n",
            "\n",
            "\n",
            "Config: {'n_neighbors': 5, 'weights': 'distance', 'metric': 'euclidean'}\n",
            "Accuracy: 0.6705\n",
            "Precision: 0.6778\n",
            "Recall: 0.6705\n",
            "F1 Score: 0.6538\n",
            "Classification Report:\n",
            "              precision    recall  f1-score   support\n",
            "\n",
            "      benign       0.66      0.85      0.74       531\n",
            "   malignant       0.70      0.44      0.54       419\n",
            "\n",
            "    accuracy                           0.67       950\n",
            "   macro avg       0.68      0.65      0.64       950\n",
            "weighted avg       0.68      0.67      0.65       950\n",
            "\n",
            "\n",
            "Config: {'n_neighbors': 7, 'weights': 'uniform', 'metric': 'manhattan'}\n",
            "Accuracy: 0.6747\n",
            "Precision: 0.6792\n",
            "Recall: 0.6747\n",
            "F1 Score: 0.6612\n",
            "Classification Report:\n",
            "              precision    recall  f1-score   support\n",
            "\n",
            "      benign       0.67      0.84      0.74       531\n",
            "   malignant       0.70      0.47      0.56       419\n",
            "\n",
            "    accuracy                           0.67       950\n",
            "   macro avg       0.68      0.65      0.65       950\n",
            "weighted avg       0.68      0.67      0.66       950\n",
            "\n",
            "\n",
            "Best KNN Model (Config: {'algorithm': 'auto', 'leaf_size': 30, 'metric': 'manhattan', 'metric_params': None, 'n_jobs': None, 'n_neighbors': 7, 'p': 2, 'weights': 'uniform'}):\n",
            "Cross-Validation F1 Scores: [0.62063492 0.635015   0.64684313 0.62468873 0.62687101]\n",
            "Average CV F1 Score: 0.6308 (±0.0093)\n",
            "\n",
            "Summary of KNN Models:\n",
            "Config: {'n_neighbors': 3, 'weights': 'uniform', 'metric': 'euclidean'} - F1: 0.6434\n",
            "Config: {'n_neighbors': 5, 'weights': 'distance', 'metric': 'euclidean'} - F1: 0.6538\n",
            "Config: {'n_neighbors': 7, 'weights': 'uniform', 'metric': 'manhattan'} - F1: 0.6612\n",
            "\n",
            "Best KNN Model: Config {'algorithm': 'auto', 'leaf_size': 30, 'metric': 'manhattan', 'metric_params': None, 'n_jobs': None, 'n_neighbors': 7, 'p': 2, 'weights': 'uniform'} - F1: 0.6612\n"
          ]
        }
      ]
    },
    {
      "cell_type": "code",
      "source": [
        "import joblib\n",
        "model_path = '/content/drive/My Drive/best_knn_model.pkl'\n",
        "scaler_path = '/content/drive/My Drive/scaler.pkl'\n",
        "le_path = '/content/drive/My Drive/label_encoder.pkl'\n",
        "\n",
        "# Save the best KNN model\n",
        "joblib.dump(best_knn, model_path)\n",
        "print(f\"Best KNN model saved to {model_path}\")\n",
        "\n",
        "# Save the scaler\n",
        "joblib.dump(scaler, scaler_path)\n",
        "print(f\"Scaler saved to {scaler_path}\")\n",
        "\n",
        "# Save the label encoder\n",
        "joblib.dump(le, le_path)\n",
        "print(f\"Label encoder saved to {le_path}\")"
      ],
      "metadata": {
        "colab": {
          "base_uri": "https://localhost:8080/"
        },
        "id": "JexuEOTv0Y7S",
        "outputId": "cc063092-923e-43ec-cfd3-3d777d6c238e"
      },
      "execution_count": null,
      "outputs": [
        {
          "output_type": "stream",
          "name": "stdout",
          "text": [
            "Best KNN model saved to /content/drive/My Drive/best_knn_model.pkl\n",
            "Scaler saved to /content/drive/My Drive/scaler.pkl\n",
            "Label encoder saved to /content/drive/My Drive/label_encoder.pkl\n"
          ]
        }
      ]
    }
  ]
}